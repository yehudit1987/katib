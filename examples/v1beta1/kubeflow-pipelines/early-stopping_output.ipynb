{
 "cells": [
  {
   "cell_type": "markdown",
   "id": "76d4d3b8",
   "metadata": {
    "tags": [
     "papermill-error-cell-tag"
    ],
    "pycharm": {
     "name": "#%% md\n"
    }
   },
   "source": [
    "<span style=\"color:red; font-family:Helvetica Neue, Helvetica, Arial, sans-serif; font-size:2em;\">An Exception was encountered at '<a href=\"#papermill-error-cell\">In [6]</a>'.</span>"
   ]
  },
  {
   "cell_type": "markdown",
   "id": "8a9cef11",
   "metadata": {
    "papermill": {
     "duration": 0.004153,
     "end_time": "2024-09-22T09:41:39.421431",
     "exception": false,
     "start_time": "2024-09-22T09:41:39.417278",
     "status": "completed"
    },
    "pycharm": {
     "name": "#%% md\n"
    },
    "tags": []
   },
   "source": [
    "# Kubeflow Pipelines with Katib component\n",
    "\n",
    "In this notebook you will:\n",
    "- Create Katib Experiment using random algorithm.\n",
    "- Use median stopping rule as an early stopping algorithm.\n",
    "- Use Kubernetes Job with mxnet mnist training container as a Trial template.\n",
    "- Create Pipeline to get the optimal hyperparameters.\n",
    "\n",
    "Reference documentation:\n",
    "- https://kubeflow.org/docs/components/katib/experiment/#random-search\n",
    "- https://kubeflow.org/docs/components/katib/early-stopping/\n",
    "- https://kubeflow.org/docs/pipelines/overview/concepts/component/\n",
    "\n",
    "**Note**: This Pipeline runs in the multi-user mode. Follow [this guide](https://github.com/kubeflow/katib/tree/master/examples/v1beta1/kubeflow-pipelines#multi-user-pipelines-setup) to give your Notebook access to Kubeflow Pipelines."
   ]
  },
  {
   "cell_type": "code",
   "execution_count": 1,
   "id": "45f814c9",
   "metadata": {
    "execution": {
     "iopub.execute_input": "2024-09-22T09:41:39.429392Z",
     "iopub.status.busy": "2024-09-22T09:41:39.428477Z",
     "iopub.status.idle": "2024-09-22T09:41:53.539540Z",
     "shell.execute_reply": "2024-09-22T09:41:53.538986Z"
    },
    "papermill": {
     "duration": 14.117697,
     "end_time": "2024-09-22T09:41:53.542190",
     "exception": false,
     "start_time": "2024-09-22T09:41:39.424493",
     "status": "completed"
    },
    "pycharm": {
     "name": "#%%\n"
    },
    "tags": []
   },
   "outputs": [
    {
     "name": "stdout",
     "output_type": "stream",
     "text": [
      "Collecting kfp==1.8.12\n",
      "  Using cached kfp-1.8.12.tar.gz (301 kB)\n",
      "  Preparing metadata (setup.py): started\n",
      "  Preparing metadata (setup.py): finished with status 'done'\n",
      "Collecting absl-py<2,>=0.9 (from kfp==1.8.12)\n",
      "  Using cached absl_py-1.4.0-py3-none-any.whl.metadata (2.3 kB)\n",
      "Collecting PyYAML<6,>=5.3 (from kfp==1.8.12)\n",
      "  Using cached PyYAML-5.4.1.tar.gz (175 kB)\n",
      "  Installing build dependencies: started\n",
      "  Installing build dependencies: finished with status 'done'\n",
      "  Getting requirements to build wheel: started\n",
      "  Getting requirements to build wheel: finished with status 'error'\n"
     ]
    },
    {
     "name": "stderr",
     "output_type": "stream",
     "text": [
      "  error: subprocess-exited-with-error\n",
      "  \n",
      "  × Getting requirements to build wheel did not run successfully.\n",
      "  │ exit code: 1\n",
      "  ╰─> [48 lines of output]\n",
      "      running egg_info\n",
      "      writing lib3\\PyYAML.egg-info\\PKG-INFO\n",
      "      writing dependency_links to lib3\\PyYAML.egg-info\\dependency_links.txt\n",
      "      writing top-level names to lib3\\PyYAML.egg-info\\top_level.txt\n",
      "      Traceback (most recent call last):\n",
      "        File \"C:\\Users\\kerido\\PycharmProjects\\kubeflow\\venv\\lib\\site-packages\\pip\\_vendor\\pyproject_hooks\\_in_process\\_in_process.py\", line 353, in <module>\n",
      "          main()\n",
      "        File \"C:\\Users\\kerido\\PycharmProjects\\kubeflow\\venv\\lib\\site-packages\\pip\\_vendor\\pyproject_hooks\\_in_process\\_in_process.py\", line 335, in main\n",
      "          json_out['return_val'] = hook(**hook_input['kwargs'])\n",
      "        File \"C:\\Users\\kerido\\PycharmProjects\\kubeflow\\venv\\lib\\site-packages\\pip\\_vendor\\pyproject_hooks\\_in_process\\_in_process.py\", line 118, in get_requires_for_build_wheel\n",
      "          return hook(config_settings)\n",
      "        File \"C:\\Users\\kerido\\AppData\\Local\\Temp\\pip-build-env-kg78l362\\overlay\\Lib\\site-packages\\setuptools\\build_meta.py\", line 332, in get_requires_for_build_wheel\n",
      "          return self._get_build_requires(config_settings, requirements=[])\n",
      "        File \"C:\\Users\\kerido\\AppData\\Local\\Temp\\pip-build-env-kg78l362\\overlay\\Lib\\site-packages\\setuptools\\build_meta.py\", line 302, in _get_build_requires\n",
      "          self.run_setup()\n",
      "        File \"C:\\Users\\kerido\\AppData\\Local\\Temp\\pip-build-env-kg78l362\\overlay\\Lib\\site-packages\\setuptools\\build_meta.py\", line 318, in run_setup\n",
      "          exec(code, locals())\n",
      "        File \"<string>\", line 271, in <module>\n",
      "        File \"C:\\Users\\kerido\\AppData\\Local\\Temp\\pip-build-env-kg78l362\\overlay\\Lib\\site-packages\\setuptools\\__init__.py\", line 117, in setup\n",
      "          return distutils.core.setup(**attrs)\n",
      "        File \"C:\\Users\\kerido\\AppData\\Local\\Temp\\pip-build-env-kg78l362\\overlay\\Lib\\site-packages\\setuptools\\_distutils\\core.py\", line 183, in setup\n",
      "          return run_commands(dist)\n",
      "        File \"C:\\Users\\kerido\\AppData\\Local\\Temp\\pip-build-env-kg78l362\\overlay\\Lib\\site-packages\\setuptools\\_distutils\\core.py\", line 199, in run_commands\n",
      "          dist.run_commands()\n",
      "        File \"C:\\Users\\kerido\\AppData\\Local\\Temp\\pip-build-env-kg78l362\\overlay\\Lib\\site-packages\\setuptools\\_distutils\\dist.py\", line 954, in run_commands\n",
      "          self.run_command(cmd)\n",
      "        File \"C:\\Users\\kerido\\AppData\\Local\\Temp\\pip-build-env-kg78l362\\overlay\\Lib\\site-packages\\setuptools\\dist.py\", line 950, in run_command\n",
      "          super().run_command(command)\n",
      "        File \"C:\\Users\\kerido\\AppData\\Local\\Temp\\pip-build-env-kg78l362\\overlay\\Lib\\site-packages\\setuptools\\_distutils\\dist.py\", line 973, in run_command\n",
      "          cmd_obj.run()\n",
      "        File \"C:\\Users\\kerido\\AppData\\Local\\Temp\\pip-build-env-kg78l362\\overlay\\Lib\\site-packages\\setuptools\\command\\egg_info.py\", line 311, in run\n",
      "          self.find_sources()\n",
      "        File \"C:\\Users\\kerido\\AppData\\Local\\Temp\\pip-build-env-kg78l362\\overlay\\Lib\\site-packages\\setuptools\\command\\egg_info.py\", line 319, in find_sources\n",
      "          mm.run()\n",
      "        File \"C:\\Users\\kerido\\AppData\\Local\\Temp\\pip-build-env-kg78l362\\overlay\\Lib\\site-packages\\setuptools\\command\\egg_info.py\", line 540, in run\n",
      "          self.add_defaults()\n",
      "        File \"C:\\Users\\kerido\\AppData\\Local\\Temp\\pip-build-env-kg78l362\\overlay\\Lib\\site-packages\\setuptools\\command\\egg_info.py\", line 578, in add_defaults\n",
      "          sdist.add_defaults(self)\n",
      "        File \"C:\\Users\\kerido\\AppData\\Local\\Temp\\pip-build-env-kg78l362\\overlay\\Lib\\site-packages\\setuptools\\command\\sdist.py\", line 108, in add_defaults\n",
      "          super().add_defaults()\n",
      "        File \"C:\\Users\\kerido\\AppData\\Local\\Temp\\pip-build-env-kg78l362\\overlay\\Lib\\site-packages\\setuptools\\_distutils\\command\\sdist.py\", line 238, in add_defaults\n",
      "          self._add_defaults_ext()\n",
      "        File \"C:\\Users\\kerido\\AppData\\Local\\Temp\\pip-build-env-kg78l362\\overlay\\Lib\\site-packages\\setuptools\\_distutils\\command\\sdist.py\", line 323, in _add_defaults_ext\n",
      "          self.filelist.extend(build_ext.get_source_files())\n",
      "        File \"<string>\", line 201, in get_source_files\n",
      "        File \"C:\\Users\\kerido\\AppData\\Local\\Temp\\pip-build-env-kg78l362\\overlay\\Lib\\site-packages\\setuptools\\_distutils\\cmd.py\", line 107, in __getattr__\n",
      "          raise AttributeError(attr)\n",
      "      AttributeError: cython_sources\n",
      "      [end of output]\n",
      "  \n",
      "  note: This error originates from a subprocess, and is likely not a problem with pip.\n",
      "error: subprocess-exited-with-error\n",
      "\n",
      "× Getting requirements to build wheel did not run successfully.\n",
      "│ exit code: 1\n",
      "╰─> See above for output.\n",
      "\n",
      "note: This error originates from a subprocess, and is likely not a problem with pip.\n"
     ]
    },
    {
     "name": "stdout",
     "output_type": "stream",
     "text": [
      "Requirement already satisfied: kubeflow-katib==0.13.0 in c:\\users\\kerido\\pycharmprojects\\kubeflow\\venv\\lib\\site-packages (0.13.0)\n",
      "Requirement already satisfied: certifi>=14.05.14 in c:\\users\\kerido\\pycharmprojects\\kubeflow\\venv\\lib\\site-packages (from kubeflow-katib==0.13.0) (2024.8.30)\n",
      "Requirement already satisfied: six>=1.10 in c:\\users\\kerido\\pycharmprojects\\kubeflow\\venv\\lib\\site-packages (from kubeflow-katib==0.13.0) (1.16.0)\n",
      "Requirement already satisfied: setuptools>=21.0.0 in c:\\users\\kerido\\pycharmprojects\\kubeflow\\venv\\lib\\site-packages (from kubeflow-katib==0.13.0) (75.1.0)\n",
      "Requirement already satisfied: urllib3>=1.15.1 in c:\\users\\kerido\\pycharmprojects\\kubeflow\\venv\\lib\\site-packages (from kubeflow-katib==0.13.0) (1.26.20)\n",
      "Requirement already satisfied: kubernetes>=12.0.0 in c:\\users\\kerido\\pycharmprojects\\kubeflow\\venv\\lib\\site-packages (from kubeflow-katib==0.13.0) (30.1.0)\n",
      "Requirement already satisfied: python-dateutil>=2.5.3 in c:\\users\\kerido\\pycharmprojects\\kubeflow\\venv\\lib\\site-packages (from kubernetes>=12.0.0->kubeflow-katib==0.13.0) (2.9.0.post0)\n",
      "Requirement already satisfied: pyyaml>=5.4.1 in c:\\users\\kerido\\pycharmprojects\\kubeflow\\venv\\lib\\site-packages (from kubernetes>=12.0.0->kubeflow-katib==0.13.0) (6.0.2)\n",
      "Requirement already satisfied: google-auth>=1.0.1 in c:\\users\\kerido\\pycharmprojects\\kubeflow\\venv\\lib\\site-packages (from kubernetes>=12.0.0->kubeflow-katib==0.13.0) (2.34.0)\n",
      "Requirement already satisfied: websocket-client!=0.40.0,!=0.41.*,!=0.42.*,>=0.32.0 in c:\\users\\kerido\\pycharmprojects\\kubeflow\\venv\\lib\\site-packages (from kubernetes>=12.0.0->kubeflow-katib==0.13.0) (1.8.0)\n",
      "Requirement already satisfied: requests in c:\\users\\kerido\\pycharmprojects\\kubeflow\\venv\\lib\\site-packages (from kubernetes>=12.0.0->kubeflow-katib==0.13.0) (2.32.3)\n",
      "Requirement already satisfied: requests-oauthlib in c:\\users\\kerido\\pycharmprojects\\kubeflow\\venv\\lib\\site-packages (from kubernetes>=12.0.0->kubeflow-katib==0.13.0) (2.0.0)\n",
      "Requirement already satisfied: oauthlib>=3.2.2 in c:\\users\\kerido\\pycharmprojects\\kubeflow\\venv\\lib\\site-packages (from kubernetes>=12.0.0->kubeflow-katib==0.13.0) (3.2.2)\n",
      "Requirement already satisfied: cachetools<6.0,>=2.0.0 in c:\\users\\kerido\\pycharmprojects\\kubeflow\\venv\\lib\\site-packages (from google-auth>=1.0.1->kubernetes>=12.0.0->kubeflow-katib==0.13.0) (5.5.0)\n",
      "Requirement already satisfied: pyasn1-modules>=0.2.1 in c:\\users\\kerido\\pycharmprojects\\kubeflow\\venv\\lib\\site-packages (from google-auth>=1.0.1->kubernetes>=12.0.0->kubeflow-katib==0.13.0) (0.4.1)\n",
      "Requirement already satisfied: rsa<5,>=3.1.4 in c:\\users\\kerido\\pycharmprojects\\kubeflow\\venv\\lib\\site-packages (from google-auth>=1.0.1->kubernetes>=12.0.0->kubeflow-katib==0.13.0) (4.9)\n",
      "Requirement already satisfied: charset-normalizer<4,>=2 in c:\\users\\kerido\\pycharmprojects\\kubeflow\\venv\\lib\\site-packages (from requests->kubernetes>=12.0.0->kubeflow-katib==0.13.0) (3.3.2)\n",
      "Requirement already satisfied: idna<4,>=2.5 in c:\\users\\kerido\\pycharmprojects\\kubeflow\\venv\\lib\\site-packages (from requests->kubernetes>=12.0.0->kubeflow-katib==0.13.0) (3.10)\n",
      "Requirement already satisfied: pyasn1<0.7.0,>=0.4.6 in c:\\users\\kerido\\pycharmprojects\\kubeflow\\venv\\lib\\site-packages (from pyasn1-modules>=0.2.1->google-auth>=1.0.1->kubernetes>=12.0.0->kubeflow-katib==0.13.0) (0.6.1)\n"
     ]
    }
   ],
   "source": [
    "# Install required packages (Kubeflow Pipelines and Katib SDK).\n",
    "!pip install kfp==1.8.12\n",
    "!pip install kubeflow-katib==0.13.0"
   ]
  },
  {
   "cell_type": "code",
   "execution_count": 2,
   "id": "a96290de",
   "metadata": {
    "execution": {
     "iopub.execute_input": "2024-09-22T09:41:53.550155Z",
     "iopub.status.busy": "2024-09-22T09:41:53.549561Z",
     "iopub.status.idle": "2024-09-22T09:41:54.318992Z",
     "shell.execute_reply": "2024-09-22T09:41:54.317814Z"
    },
    "papermill": {
     "duration": 0.774271,
     "end_time": "2024-09-22T09:41:54.320076",
     "exception": false,
     "start_time": "2024-09-22T09:41:53.545805",
     "status": "completed"
    },
    "pycharm": {
     "name": "#%%\n"
    },
    "tags": []
   },
   "outputs": [],
   "source": [
    "import kfp\n",
    "import kfp.dsl as dsl\n",
    "from kfp import components\n",
    "\n",
    "from kubeflow.katib import ApiClient\n",
    "from kubeflow.katib import V1beta1ExperimentSpec\n",
    "from kubeflow.katib import V1beta1AlgorithmSpec\n",
    "from kubeflow.katib import V1beta1EarlyStoppingSpec\n",
    "from kubeflow.katib import V1beta1EarlyStoppingSetting\n",
    "from kubeflow.katib import V1beta1ObjectiveSpec\n",
    "from kubeflow.katib import V1beta1ParameterSpec\n",
    "from kubeflow.katib import V1beta1FeasibleSpace\n",
    "from kubeflow.katib import V1beta1TrialTemplate\n",
    "from kubeflow.katib import V1beta1TrialParameterSpec"
   ]
  },
  {
   "cell_type": "markdown",
   "id": "d5bdc2a8",
   "metadata": {
    "papermill": {
     "duration": 0.003057,
     "end_time": "2024-09-22T09:41:54.325051",
     "exception": false,
     "start_time": "2024-09-22T09:41:54.321994",
     "status": "completed"
    },
    "pycharm": {
     "name": "#%% md\n"
    },
    "tags": []
   },
   "source": [
    "## Define an Experiment\n",
    "\n",
    "You have to create an Experiment object before deploying it. This Experiment is similar to [this](https://github.com/kubeflow/katib/blob/master/examples/v1beta1/early-stopping/median-stop.yaml) YAML."
   ]
  },
  {
   "cell_type": "code",
   "execution_count": 3,
   "id": "87fa0c36",
   "metadata": {
    "execution": {
     "iopub.execute_input": "2024-09-22T09:41:54.330261Z",
     "iopub.status.busy": "2024-09-22T09:41:54.329196Z",
     "iopub.status.idle": "2024-09-22T09:41:54.349637Z",
     "shell.execute_reply": "2024-09-22T09:41:54.348666Z"
    },
    "papermill": {
     "duration": 0.02444,
     "end_time": "2024-09-22T09:41:54.350672",
     "exception": false,
     "start_time": "2024-09-22T09:41:54.326232",
     "status": "completed"
    },
    "pycharm": {
     "name": "#%%\n"
    },
    "tags": []
   },
   "outputs": [],
   "source": [
    "# Experiment name and namespace.\n",
    "experiment_name = \"median-stop\"\n",
    "experiment_namespace = \"kubeflow-user-example-com\"\n",
    "\n",
    "# Trial count specification.\n",
    "max_trial_count = 18\n",
    "max_failed_trial_count = 3\n",
    "parallel_trial_count = 2\n",
    "\n",
    "# Objective specification.\n",
    "objective=V1beta1ObjectiveSpec(\n",
    "    type=\"minimize\",\n",
    "    goal= 0.001,\n",
    "    objective_metric_name=\"loss\",\n",
    ")\n",
    "\n",
    "# Algorithm specification.\n",
    "algorithm=V1beta1AlgorithmSpec(\n",
    "    algorithm_name=\"random\",\n",
    ")\n",
    "\n",
    "# Early Stopping specification.\n",
    "early_stopping=V1beta1EarlyStoppingSpec(\n",
    "    algorithm_name=\"medianstop\",\n",
    "    algorithm_settings=[\n",
    "        V1beta1EarlyStoppingSetting(\n",
    "            name=\"min_trials_required\",\n",
    "            value=\"2\"\n",
    "        )\n",
    "    ]\n",
    ")\n",
    "\n",
    "# Experiment search space.\n",
    "# In this example we tune learning rate, number of layer and optimizer.\n",
    "# Learning rate has bad feasible space to show more early stopped Trials.\n",
    "parameters=[\n",
    "    V1beta1ParameterSpec(\n",
    "        name=\"lr\",\n",
    "        parameter_type=\"double\",\n",
    "        feasible_space=V1beta1FeasibleSpace(\n",
    "            min=\"0.01\",\n",
    "            max=\"0.3\"\n",
    "        ),\n",
    "    ),\n",
    "    V1beta1ParameterSpec(\n",
    "        name=\"momentum\",\n",
    "        parameter_type=\"double\",\n",
    "        feasible_space=V1beta1FeasibleSpace(\n",
    "            min=\"0.5\",\n",
    "            max=\"0.9\"\n",
    "        ),\n",
    "    ),\n",
    "]\n"
   ]
  },
  {
   "cell_type": "markdown",
   "id": "0fd7fa22",
   "metadata": {
    "papermill": {
     "duration": 0.003006,
     "end_time": "2024-09-22T09:41:54.356042",
     "exception": false,
     "start_time": "2024-09-22T09:41:54.353036",
     "status": "completed"
    },
    "pycharm": {
     "name": "#%% md\n"
    },
    "tags": []
   },
   "source": [
    "## Define a Trial template\n",
    "\n",
    "In this example, the Trial's Worker is the Kubernetes Job."
   ]
  },
  {
   "cell_type": "code",
   "execution_count": 4,
   "id": "f0af110e",
   "metadata": {
    "execution": {
     "iopub.execute_input": "2024-09-22T09:41:54.361037Z",
     "iopub.status.busy": "2024-09-22T09:41:54.361037Z",
     "iopub.status.idle": "2024-09-22T09:41:54.380367Z",
     "shell.execute_reply": "2024-09-22T09:41:54.379484Z"
    },
    "papermill": {
     "duration": 0.023381,
     "end_time": "2024-09-22T09:41:54.381471",
     "exception": false,
     "start_time": "2024-09-22T09:41:54.358090",
     "status": "completed"
    },
    "pycharm": {
     "name": "#%%\n"
    },
    "tags": []
   },
   "outputs": [],
   "source": [
    "# JSON template specification for the Trial's Worker Kubernetes Job.\n",
    "trial_spec={\n",
    "    \"apiVersion\": \"batch/v1\",\n",
    "    \"kind\": \"Job\",\n",
    "    \"spec\": {\n",
    "        \"template\": {\n",
    "            \"metadata\": {\n",
    "                \"annotations\": {\n",
    "                     \"sidecar.istio.io/inject\": \"false\"\n",
    "                }\n",
    "            },\n",
    "            \"spec\": {\n",
    "                \"containers\": [\n",
    "                    {\n",
    "                        \"name\": \"training-container\",\n",
    "                        \"image\": \"docker.io/kubeflowkatib/pytorch-mnist-cpu:v0.14.0\",\n",
    "                        \"command\": [\n",
    "                            \"python3\",\n",
    "                            \"/opt/pytorch-mnist/mnist.py\",\n",
    "                            \"--epochs=1\",\n",
    "                            \"--batch-size=16\",\n",
    "                            \"--lr=${trialParameters.learningRate}\",\n",
    "                            \"--momentum=${trialParameters.momentum}\",\n",
    "                        ]\n",
    "                    }\n",
    "                ],\n",
    "                \"restartPolicy\": \"Never\"\n",
    "            }\n",
    "        }\n",
    "    }\n",
    "}\n",
    "\n",
    "# Configure parameters for the Trial template.\n",
    "# We set the retain parameter to \"True\" to not clean-up the Trial Job's Kubernetes Pods.\n",
    "trial_template=V1beta1TrialTemplate(\n",
    "    retain=True,\n",
    "    primary_container_name=\"training-container\",\n",
    "    trial_parameters=[\n",
    "        V1beta1TrialParameterSpec(\n",
    "            name=\"learningRate\",\n",
    "            description=\"Learning rate for the training model\",\n",
    "            reference=\"lr\"\n",
    "        ),\n",
    "        V1beta1TrialParameterSpec(\n",
    "            name=\"momentum\",\n",
    "            description=\"Momentum for the training model\",\n",
    "            reference=\"momentum\"\n",
    "        ),\n",
    "    ],\n",
    "    trial_spec=trial_spec\n",
    ")"
   ]
  },
  {
   "cell_type": "markdown",
   "id": "477ce06d",
   "metadata": {
    "papermill": {
     "duration": 0.002084,
     "end_time": "2024-09-22T09:41:54.386550",
     "exception": false,
     "start_time": "2024-09-22T09:41:54.384466",
     "status": "completed"
    },
    "pycharm": {
     "name": "#%% md\n"
    },
    "tags": []
   },
   "source": [
    "## Define an Experiment specification\n",
    "\n",
    "Create an Experiment specification from the above parameters."
   ]
  },
  {
   "cell_type": "code",
   "execution_count": 5,
   "id": "de1bffa8",
   "metadata": {
    "execution": {
     "iopub.execute_input": "2024-09-22T09:41:54.392554Z",
     "iopub.status.busy": "2024-09-22T09:41:54.391468Z",
     "iopub.status.idle": "2024-09-22T09:41:54.411094Z",
     "shell.execute_reply": "2024-09-22T09:41:54.410166Z"
    },
    "papermill": {
     "duration": 0.024506,
     "end_time": "2024-09-22T09:41:54.412998",
     "exception": false,
     "start_time": "2024-09-22T09:41:54.388492",
     "status": "completed"
    },
    "pycharm": {
     "name": "#%%\n"
    },
    "tags": []
   },
   "outputs": [],
   "source": [
    "experiment_spec=V1beta1ExperimentSpec(\n",
    "    max_trial_count=max_trial_count,\n",
    "    max_failed_trial_count=max_failed_trial_count,\n",
    "    parallel_trial_count=parallel_trial_count,\n",
    "    objective=objective,\n",
    "    algorithm=algorithm,\n",
    "    early_stopping=early_stopping,\n",
    "    parameters=parameters,\n",
    "    trial_template=trial_template\n",
    ")"
   ]
  },
  {
   "cell_type": "markdown",
   "id": "9eee7ea9",
   "metadata": {
    "papermill": {
     "duration": 0.002012,
     "end_time": "2024-09-22T09:41:54.417105",
     "exception": false,
     "start_time": "2024-09-22T09:41:54.415093",
     "status": "completed"
    },
    "pycharm": {
     "name": "#%% md\n"
    },
    "tags": []
   },
   "source": [
    "# Create a Pipeline using Katib component\n",
    "\n",
    "The best hyperparameters are printed after Experiment is finished.\n",
    "The Experiment is not deleted after the Pipeline is finished."
   ]
  },
  {
   "cell_type": "markdown",
   "id": "e5039b4a",
   "metadata": {
    "tags": [
     "papermill-error-cell-tag"
    ],
    "pycharm": {
     "name": "#%% md\n"
    }
   },
   "source": [
    "<span id=\"papermill-error-cell\" style=\"color:red; font-family:Helvetica Neue, Helvetica, Arial, sans-serif; font-size:2em;\">Execution using papermill encountered an exception here and stopped:</span>"
   ]
  },
  {
   "cell_type": "code",
   "execution_count": 6,
   "id": "b340f642",
   "metadata": {
    "execution": {
     "iopub.execute_input": "2024-09-22T09:41:54.423259Z",
     "iopub.status.busy": "2024-09-22T09:41:54.421999Z",
     "iopub.status.idle": "2024-09-22T09:41:55.074905Z",
     "shell.execute_reply": "2024-09-22T09:41:55.074905Z"
    },
    "papermill": {
     "duration": 0.657015,
     "end_time": "2024-09-22T09:41:55.076130",
     "exception": true,
     "start_time": "2024-09-22T09:41:54.419115",
     "status": "failed"
    },
    "pycharm": {
     "name": "#%%\n"
    },
    "tags": []
   },
   "outputs": [
    {
     "ename": "AttributeError",
     "evalue": "module 'kfp.dsl' has no attribute 'ContainerOp'",
     "output_type": "error",
     "traceback": [
      "\u001B[1;31m---------------------------------------------------------------------------\u001B[0m",
      "\u001B[1;31mAttributeError\u001B[0m                            Traceback (most recent call last)",
      "Cell \u001B[1;32mIn[6], line 10\u001B[0m\n\u001B[0;32m      1\u001B[0m \u001B[38;5;66;03m# Get the Katib launcher.\u001B[39;00m\n\u001B[0;32m      2\u001B[0m katib_experiment_launcher_op \u001B[38;5;241m=\u001B[39m components\u001B[38;5;241m.\u001B[39mload_component_from_url(\n\u001B[0;32m      3\u001B[0m     \u001B[38;5;124m\"\u001B[39m\u001B[38;5;124mhttps://raw.githubusercontent.com/kubeflow/pipelines/master/components/kubeflow/katib-launcher/component.yaml\u001B[39m\u001B[38;5;124m\"\u001B[39m)\n\u001B[0;32m      5\u001B[0m \u001B[38;5;129;43m@dsl\u001B[39;49m\u001B[38;5;241;43m.\u001B[39;49m\u001B[43mpipeline\u001B[49m\u001B[43m(\u001B[49m\n\u001B[0;32m      6\u001B[0m \u001B[43m    \u001B[49m\u001B[43mname\u001B[49m\u001B[38;5;241;43m=\u001B[39;49m\u001B[38;5;124;43m\"\u001B[39;49m\u001B[38;5;124;43mLaunch Katib early stopping Experiment\u001B[39;49m\u001B[38;5;124;43m\"\u001B[39;49m\u001B[43m,\u001B[49m\n\u001B[0;32m      7\u001B[0m \u001B[43m    \u001B[49m\u001B[43mdescription\u001B[49m\u001B[38;5;241;43m=\u001B[39;49m\u001B[38;5;124;43m\"\u001B[39;49m\u001B[38;5;124;43mAn example to launch Katib Experiment with early stopping\u001B[39;49m\u001B[38;5;124;43m\"\u001B[39;49m\n\u001B[0;32m      8\u001B[0m \u001B[43m)\u001B[49m\n\u001B[0;32m      9\u001B[0m \n\u001B[1;32m---> 10\u001B[0m \u001B[38;5;28;43;01mdef\u001B[39;49;00m\u001B[43m \u001B[49m\u001B[38;5;21;43mmedian_stop\u001B[39;49m\u001B[43m(\u001B[49m\u001B[43m)\u001B[49m\u001B[43m:\u001B[49m\n\u001B[0;32m     11\u001B[0m \n\u001B[0;32m     12\u001B[0m \u001B[43m    \u001B[49m\u001B[38;5;66;43;03m# Katib launcher component.\u001B[39;49;00m\n\u001B[0;32m     13\u001B[0m \u001B[43m    \u001B[49m\u001B[38;5;66;43;03m# Experiment Spec should be serialized to a valid Kubernetes object.\u001B[39;49;00m\n\u001B[0;32m     14\u001B[0m \u001B[43m    \u001B[49m\u001B[43mop\u001B[49m\u001B[43m \u001B[49m\u001B[38;5;241;43m=\u001B[39;49m\u001B[43m \u001B[49m\u001B[43mkatib_experiment_launcher_op\u001B[49m\u001B[43m(\u001B[49m\n\u001B[0;32m     15\u001B[0m \u001B[43m        \u001B[49m\u001B[43mexperiment_name\u001B[49m\u001B[38;5;241;43m=\u001B[39;49m\u001B[43mexperiment_name\u001B[49m\u001B[43m,\u001B[49m\n\u001B[0;32m     16\u001B[0m \u001B[43m        \u001B[49m\u001B[43mexperiment_namespace\u001B[49m\u001B[38;5;241;43m=\u001B[39;49m\u001B[43mexperiment_namespace\u001B[49m\u001B[43m,\u001B[49m\n\u001B[0;32m     17\u001B[0m \u001B[43m        \u001B[49m\u001B[43mexperiment_spec\u001B[49m\u001B[38;5;241;43m=\u001B[39;49m\u001B[43mApiClient\u001B[49m\u001B[43m(\u001B[49m\u001B[43m)\u001B[49m\u001B[38;5;241;43m.\u001B[39;49m\u001B[43msanitize_for_serialization\u001B[49m\u001B[43m(\u001B[49m\u001B[43mexperiment_spec\u001B[49m\u001B[43m)\u001B[49m\u001B[43m,\u001B[49m\n\u001B[0;32m     18\u001B[0m \u001B[43m        \u001B[49m\u001B[43mexperiment_timeout_minutes\u001B[49m\u001B[38;5;241;43m=\u001B[39;49m\u001B[38;5;241;43m60\u001B[39;49m\u001B[43m,\u001B[49m\n\u001B[0;32m     19\u001B[0m \u001B[43m        \u001B[49m\u001B[43mdelete_finished_experiment\u001B[49m\u001B[38;5;241;43m=\u001B[39;49m\u001B[38;5;28;43;01mFalse\u001B[39;49;00m\u001B[43m)\u001B[49m\n\u001B[0;32m     21\u001B[0m \u001B[43m    \u001B[49m\u001B[38;5;66;43;03m# Output container to print the results.\u001B[39;49;00m\n",
      "File \u001B[1;32m~\\PycharmProjects\\kubeflow\\venv\\lib\\site-packages\\kfp\\dsl\\pipeline_context.py:65\u001B[0m, in \u001B[0;36mpipeline\u001B[1;34m(func, name, description, pipeline_root, display_name)\u001B[0m\n\u001B[0;32m     62\u001B[0m \u001B[38;5;28;01mif\u001B[39;00m pipeline_root:\n\u001B[0;32m     63\u001B[0m     func\u001B[38;5;241m.\u001B[39mpipeline_root \u001B[38;5;241m=\u001B[39m pipeline_root\n\u001B[1;32m---> 65\u001B[0m \u001B[38;5;28;01mreturn\u001B[39;00m \u001B[43mcomponent_factory\u001B[49m\u001B[38;5;241;43m.\u001B[39;49m\u001B[43mcreate_graph_component_from_func\u001B[49m\u001B[43m(\u001B[49m\n\u001B[0;32m     66\u001B[0m \u001B[43m    \u001B[49m\u001B[43mfunc\u001B[49m\u001B[43m,\u001B[49m\n\u001B[0;32m     67\u001B[0m \u001B[43m    \u001B[49m\u001B[43mname\u001B[49m\u001B[38;5;241;43m=\u001B[39;49m\u001B[43mname\u001B[49m\u001B[43m,\u001B[49m\n\u001B[0;32m     68\u001B[0m \u001B[43m    \u001B[49m\u001B[43mdescription\u001B[49m\u001B[38;5;241;43m=\u001B[39;49m\u001B[43mdescription\u001B[49m\u001B[43m,\u001B[49m\n\u001B[0;32m     69\u001B[0m \u001B[43m    \u001B[49m\u001B[43mdisplay_name\u001B[49m\u001B[38;5;241;43m=\u001B[39;49m\u001B[43mdisplay_name\u001B[49m\u001B[43m,\u001B[49m\n\u001B[0;32m     70\u001B[0m \u001B[43m\u001B[49m\u001B[43m)\u001B[49m\n",
      "File \u001B[1;32m~\\PycharmProjects\\kubeflow\\venv\\lib\\site-packages\\kfp\\dsl\\component_factory.py:691\u001B[0m, in \u001B[0;36mcreate_graph_component_from_func\u001B[1;34m(func, name, description, display_name)\u001B[0m\n\u001B[0;32m    680\u001B[0m \u001B[38;5;250m\u001B[39m\u001B[38;5;124;03m\"\"\"Implementation for the @pipeline decorator.\u001B[39;00m\n\u001B[0;32m    681\u001B[0m \n\u001B[0;32m    682\u001B[0m \u001B[38;5;124;03mThe decorator is defined under pipeline_context.py. See the\u001B[39;00m\n\u001B[0;32m    683\u001B[0m \u001B[38;5;124;03mdecorator for the canonical documentation for this function.\u001B[39;00m\n\u001B[0;32m    684\u001B[0m \u001B[38;5;124;03m\"\"\"\u001B[39;00m\n\u001B[0;32m    686\u001B[0m component_spec \u001B[38;5;241m=\u001B[39m extract_component_interface(\n\u001B[0;32m    687\u001B[0m     func,\n\u001B[0;32m    688\u001B[0m     description\u001B[38;5;241m=\u001B[39mdescription,\n\u001B[0;32m    689\u001B[0m     name\u001B[38;5;241m=\u001B[39mname,\n\u001B[0;32m    690\u001B[0m )\n\u001B[1;32m--> 691\u001B[0m \u001B[38;5;28;01mreturn\u001B[39;00m \u001B[43mgraph_component\u001B[49m\u001B[38;5;241;43m.\u001B[39;49m\u001B[43mGraphComponent\u001B[49m\u001B[43m(\u001B[49m\n\u001B[0;32m    692\u001B[0m \u001B[43m    \u001B[49m\u001B[43mcomponent_spec\u001B[49m\u001B[38;5;241;43m=\u001B[39;49m\u001B[43mcomponent_spec\u001B[49m\u001B[43m,\u001B[49m\n\u001B[0;32m    693\u001B[0m \u001B[43m    \u001B[49m\u001B[43mpipeline_func\u001B[49m\u001B[38;5;241;43m=\u001B[39;49m\u001B[43mfunc\u001B[49m\u001B[43m,\u001B[49m\n\u001B[0;32m    694\u001B[0m \u001B[43m    \u001B[49m\u001B[43mdisplay_name\u001B[49m\u001B[38;5;241;43m=\u001B[39;49m\u001B[43mdisplay_name\u001B[49m\u001B[43m,\u001B[49m\n\u001B[0;32m    695\u001B[0m \u001B[43m\u001B[49m\u001B[43m)\u001B[49m\n",
      "File \u001B[1;32m~\\PycharmProjects\\kubeflow\\venv\\lib\\site-packages\\kfp\\dsl\\graph_component.py:58\u001B[0m, in \u001B[0;36mGraphComponent.__init__\u001B[1;34m(self, component_spec, pipeline_func, display_name)\u001B[0m\n\u001B[0;32m     49\u001B[0m     args_list\u001B[38;5;241m.\u001B[39mappend(\n\u001B[0;32m     50\u001B[0m         pipeline_channel\u001B[38;5;241m.\u001B[39mcreate_pipeline_channel(\n\u001B[0;32m     51\u001B[0m             name\u001B[38;5;241m=\u001B[39marg_name,\n\u001B[0;32m     52\u001B[0m             channel_type\u001B[38;5;241m=\u001B[39minput_spec\u001B[38;5;241m.\u001B[39mtype,\n\u001B[0;32m     53\u001B[0m             is_artifact_list\u001B[38;5;241m=\u001B[39minput_spec\u001B[38;5;241m.\u001B[39mis_artifact_list,\n\u001B[0;32m     54\u001B[0m         ))\n\u001B[0;32m     56\u001B[0m \u001B[38;5;28;01mwith\u001B[39;00m pipeline_context\u001B[38;5;241m.\u001B[39mPipeline(\n\u001B[0;32m     57\u001B[0m         \u001B[38;5;28mself\u001B[39m\u001B[38;5;241m.\u001B[39mcomponent_spec\u001B[38;5;241m.\u001B[39mname) \u001B[38;5;28;01mas\u001B[39;00m dsl_pipeline:\n\u001B[1;32m---> 58\u001B[0m     pipeline_outputs \u001B[38;5;241m=\u001B[39m \u001B[43mpipeline_func\u001B[49m\u001B[43m(\u001B[49m\u001B[38;5;241;43m*\u001B[39;49m\u001B[43margs_list\u001B[49m\u001B[43m)\u001B[49m\n\u001B[0;32m     60\u001B[0m \u001B[38;5;28;01mif\u001B[39;00m \u001B[38;5;129;01mnot\u001B[39;00m dsl_pipeline\u001B[38;5;241m.\u001B[39mtasks:\n\u001B[0;32m     61\u001B[0m     \u001B[38;5;28;01mraise\u001B[39;00m \u001B[38;5;167;01mValueError\u001B[39;00m(\u001B[38;5;124m'\u001B[39m\u001B[38;5;124mTask is missing from pipeline.\u001B[39m\u001B[38;5;124m'\u001B[39m)\n",
      "Cell \u001B[1;32mIn[6], line 22\u001B[0m, in \u001B[0;36mmedian_stop\u001B[1;34m()\u001B[0m\n\u001B[0;32m     14\u001B[0m op \u001B[38;5;241m=\u001B[39m katib_experiment_launcher_op(\n\u001B[0;32m     15\u001B[0m     experiment_name\u001B[38;5;241m=\u001B[39mexperiment_name,\n\u001B[0;32m     16\u001B[0m     experiment_namespace\u001B[38;5;241m=\u001B[39mexperiment_namespace,\n\u001B[0;32m     17\u001B[0m     experiment_spec\u001B[38;5;241m=\u001B[39mApiClient()\u001B[38;5;241m.\u001B[39msanitize_for_serialization(experiment_spec),\n\u001B[0;32m     18\u001B[0m     experiment_timeout_minutes\u001B[38;5;241m=\u001B[39m\u001B[38;5;241m60\u001B[39m,\n\u001B[0;32m     19\u001B[0m     delete_finished_experiment\u001B[38;5;241m=\u001B[39m\u001B[38;5;28;01mFalse\u001B[39;00m)\n\u001B[0;32m     21\u001B[0m \u001B[38;5;66;03m# Output container to print the results.\u001B[39;00m\n\u001B[1;32m---> 22\u001B[0m op_out \u001B[38;5;241m=\u001B[39m \u001B[43mdsl\u001B[49m\u001B[38;5;241;43m.\u001B[39;49m\u001B[43mContainerOp\u001B[49m(\n\u001B[0;32m     23\u001B[0m     name\u001B[38;5;241m=\u001B[39m\u001B[38;5;124m\"\u001B[39m\u001B[38;5;124mbest-hp\u001B[39m\u001B[38;5;124m\"\u001B[39m,\n\u001B[0;32m     24\u001B[0m     image\u001B[38;5;241m=\u001B[39m\u001B[38;5;124m\"\u001B[39m\u001B[38;5;124mlibrary/bash:4.4.23\u001B[39m\u001B[38;5;124m\"\u001B[39m,\n\u001B[0;32m     25\u001B[0m     command\u001B[38;5;241m=\u001B[39m[\u001B[38;5;124m\"\u001B[39m\u001B[38;5;124msh\u001B[39m\u001B[38;5;124m\"\u001B[39m, \u001B[38;5;124m\"\u001B[39m\u001B[38;5;124m-c\u001B[39m\u001B[38;5;124m\"\u001B[39m],\n\u001B[0;32m     26\u001B[0m     arguments\u001B[38;5;241m=\u001B[39m[\u001B[38;5;124m\"\u001B[39m\u001B[38;5;124mecho Best HyperParameters: \u001B[39m\u001B[38;5;132;01m%s\u001B[39;00m\u001B[38;5;124m\"\u001B[39m \u001B[38;5;241m%\u001B[39m op\u001B[38;5;241m.\u001B[39moutput],\n\u001B[0;32m     27\u001B[0m )\n",
      "\u001B[1;31mAttributeError\u001B[0m: module 'kfp.dsl' has no attribute 'ContainerOp'"
     ]
    }
   ],
   "source": [
    "# Get the Katib launcher.\n",
    "katib_experiment_launcher_op = components.load_component_from_url(\n",
    "    \"https://raw.githubusercontent.com/kubeflow/pipelines/master/components/kubeflow/katib-launcher/component.yaml\")\n",
    "\n",
    "@dsl.pipeline(\n",
    "    name=\"Launch Katib early stopping Experiment\",\n",
    "    description=\"An example to launch Katib Experiment with early stopping\"\n",
    ")\n",
    "\n",
    "def median_stop():\n",
    "\n",
    "    # Katib launcher component.\n",
    "    # Experiment Spec should be serialized to a valid Kubernetes object.\n",
    "    op = katib_experiment_launcher_op(\n",
    "        experiment_name=experiment_name,\n",
    "        experiment_namespace=experiment_namespace,\n",
    "        experiment_spec=ApiClient().sanitize_for_serialization(experiment_spec),\n",
    "        experiment_timeout_minutes=60,\n",
    "        delete_finished_experiment=False)\n",
    "\n",
    "    # Output container to print the results.\n",
    "    op_out = dsl.ContainerOp(\n",
    "        name=\"best-hp\",\n",
    "        image=\"library/bash:4.4.23\",\n",
    "        command=[\"sh\", \"-c\"],\n",
    "        arguments=[\"echo Best HyperParameters: %s\" % op.output],\n",
    "    )"
   ]
  },
  {
   "cell_type": "markdown",
   "id": "00c28a23",
   "metadata": {
    "papermill": {
     "duration": null,
     "end_time": null,
     "exception": null,
     "start_time": null,
     "status": "pending"
    },
    "pycharm": {
     "name": "#%% md\n"
    },
    "tags": []
   },
   "source": [
    "# Run the Kubeflow Pipeline\n",
    "\n",
    "You can check the Katib Experiment info in the Katib UI."
   ]
  },
  {
   "cell_type": "code",
   "execution_count": null,
   "id": "e47a58aa",
   "metadata": {
    "papermill": {
     "duration": null,
     "end_time": null,
     "exception": null,
     "start_time": null,
     "status": "pending"
    },
    "pycharm": {
     "name": "#%%\n"
    },
    "scrolled": true,
    "tags": []
   },
   "outputs": [],
   "source": [
    "# Run the Kubeflow Pipeline in the user's namespace.\n",
    "kfp.Client().create_run_from_pipeline_func(median_stop,  namespace=experiment_namespace, arguments={})"
   ]
  },
  {
   "cell_type": "code",
   "execution_count": null,
   "id": "09432197",
   "metadata": {
    "papermill": {
     "duration": null,
     "end_time": null,
     "exception": null,
     "start_time": null,
     "status": "pending"
    },
    "pycharm": {
     "name": "#%%\n"
    },
    "tags": []
   },
   "outputs": [],
   "source": []
  }
 ],
 "metadata": {
  "kernelspec": {
   "display_name": "Python 3",
   "language": "python",
   "name": "python3"
  },
  "language_info": {
   "codemirror_mode": {
    "name": "ipython",
    "version": 3
   },
   "file_extension": ".py",
   "mimetype": "text/x-python",
   "name": "python",
   "nbconvert_exporter": "python",
   "pygments_lexer": "ipython3",
   "version": "3.10.6"
  },
  "papermill": {
   "default_parameters": {},
   "duration": 18.528419,
   "end_time": "2024-09-22T09:41:56.154374",
   "environment_variables": {},
   "exception": true,
   "input_path": "C:\\Users\\kerido\\PycharmProjects\\kubeflow\\katib\\examples\\v1beta1\\kubeflow-pipelines\\early-stopping.ipynb",
   "output_path": "C:\\Users\\kerido\\PycharmProjects\\kubeflow\\katib\\examples\\v1beta1\\kubeflow-pipelines\\early-stopping_output.ipynb",
   "parameters": {},
   "start_time": "2024-09-22T09:41:37.625955",
   "version": "2.6.0"
  }
 },
 "nbformat": 4,
 "nbformat_minor": 5
}
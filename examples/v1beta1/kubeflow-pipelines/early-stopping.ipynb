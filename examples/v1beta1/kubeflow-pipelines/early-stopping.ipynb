{
 "cells": [
  {
   "cell_type": "markdown",
   "metadata": {},
   "source": [
    "# Kubeflow Pipelines with Katib component\n",
    "\n",
    "In this notebook you will:\n",
    "- Create Katib Experiment using random algorithm.\n",
    "- Use median stopping rule as an early stopping algorithm.\n",
    "- Use Kubernetes Job with mxnet mnist training container as a Trial template.\n",
    "- Create Pipeline to get the optimal hyperparameters.\n",
    "\n",
    "Reference documentation:\n",
    "- https://kubeflow.org/docs/components/katib/experiment/#random-search\n",
    "- https://kubeflow.org/docs/components/katib/early-stopping/\n",
    "- https://kubeflow.org/docs/pipelines/overview/concepts/component/\n",
    "\n",
    "**Note**: This Pipeline runs in the multi-user mode. Follow [this guide](https://github.com/kubeflow/katib/tree/master/examples/v1beta1/kubeflow-pipelines#multi-user-pipelines-setup) to give your Notebook access to Kubeflow Pipelines."
   ]
  },
  {
   "cell_type": "code",
   "execution_count": null,
   "outputs": [],
   "source": [
    "# Install required packages (Kubeflow Pipelines and Katib SDK).\n",
    "!pip install kfp==2.3.0\n",
    "!pip install kubeflow-katib==0.17.0\n",
    "!pip install protobuf==3.20.*"
   ],
   "metadata": {
    "collapsed": false,
    "pycharm": {
     "name": "#%%\n"
    }
   }
  },
  {
   "cell_type": "code",
   "execution_count": null,
   "outputs": [],
   "source": [
    "import kfp\n",
    "import kfp.dsl as dsl\n",
    "from kfp import components\n",
    "\n",
    "from kubeflow.katib import KatibClient, ApiClient, V1beta1Experiment\n",
    "from kubeflow.katib.models import (\n",
    "    V1beta1ExperimentSpec,\n",
    "    V1beta1AlgorithmSpec,\n",
    "    V1beta1ObjectiveSpec,\n",
    "    V1beta1ParameterSpec,\n",
    "    V1beta1FeasibleSpace,\n",
    "    V1beta1TrialTemplate,\n",
    "    V1beta1TrialParameterSpec,\n",
    "    V1beta1EarlyStoppingSpec,\n",
    "    V1beta1EarlyStoppingSetting,\n",
    ")"
   ],
   "metadata": {
    "collapsed": false,
    "pycharm": {
     "name": "#%%\n"
    }
   }
  },
  {
   "cell_type": "markdown",
   "source": [
    "## Define an Experiment\n",
    "\n",
    "You have to create an Experiment object before deploying it. This Experiment is similar to [this](https://github.com/kubeflow/katib/blob/master/examples/v1beta1/early-stopping/median-stop.yaml) YAML."
   ],
   "metadata": {
    "collapsed": false,
    "pycharm": {
     "name": "#%% md\n"
    }
   }
  },
  {
   "cell_type": "code",
   "execution_count": null,
   "outputs": [],
   "source": [
    "# Experiment name and namespace.\n",
    "experiment_name = \"median-stop\"\n",
    "experiment_namespace = \"kubeflow-user-example-com\"\n",
    "\n",
    "# Trial count specification.\n",
    "max_trial_count = 18\n",
    "max_failed_trial_count = 3\n",
    "parallel_trial_count = 2\n",
    "\n",
    "# Objective specification.\n",
    "objective=V1beta1ObjectiveSpec(\n",
    "    type=\"minimize\",\n",
    "    goal= 0.001,\n",
    "    objective_metric_name=\"loss\",\n",
    ")\n",
    "\n",
    "# Algorithm specification.\n",
    "algorithm=V1beta1AlgorithmSpec(\n",
    "    algorithm_name=\"random\",\n",
    ")\n",
    "\n",
    "# Early Stopping specification.\n",
    "early_stopping=V1beta1EarlyStoppingSpec(\n",
    "    algorithm_name=\"medianstop\",\n",
    "    algorithm_settings=[\n",
    "        V1beta1EarlyStoppingSetting(\n",
    "            name=\"min_trials_required\",\n",
    "            value=\"2\"\n",
    "        )\n",
    "    ]\n",
    ")\n",
    "\n",
    "# Experiment search space.\n",
    "# In this example we tune learning rate, number of layer and optimizer.\n",
    "# Learning rate has bad feasible space to show more early stopped Trials.\n",
    "parameters=[\n",
    "    V1beta1ParameterSpec(\n",
    "        name=\"lr\",\n",
    "        parameter_type=\"double\",\n",
    "        feasible_space=V1beta1FeasibleSpace(\n",
    "            min=\"0.01\",\n",
    "            max=\"0.3\"\n",
    "        ),\n",
    "    ),\n",
    "    V1beta1ParameterSpec(\n",
    "        name=\"momentum\",\n",
    "        parameter_type=\"double\",\n",
    "        feasible_space=V1beta1FeasibleSpace(\n",
    "            min=\"0.5\",\n",
    "            max=\"0.9\"\n",
    "        ),\n",
    "    ),\n",
    "]\n"
   ],
   "metadata": {
    "collapsed": false,
    "pycharm": {
     "name": "#%%\n"
    }
   }
  },
  {
   "cell_type": "markdown",
   "source": [
    "## Define a Trial template\n",
    "\n",
    "In this example, the Trial's Worker is the Kubernetes Job."
   ],
   "metadata": {
    "collapsed": false,
    "pycharm": {
     "name": "#%% md\n"
    }
   }
  },
  {
   "cell_type": "code",
   "execution_count": null,
   "outputs": [],
   "source": [
    "# JSON template specification for the Trial's Worker Kubernetes Job.\n",
    "trial_spec={\n",
    "    \"apiVersion\": \"batch/v1\",\n",
    "    \"kind\": \"Job\",\n",
    "    \"spec\": {\n",
    "        \"template\": {\n",
    "            \"metadata\": {\n",
    "                \"annotations\": {\n",
    "                     \"sidecar.istio.io/inject\": \"false\"\n",
    "                }\n",
    "            },\n",
    "            \"spec\": {\n",
    "                \"containers\": [\n",
    "                    {\n",
    "                        \"name\": \"training-container\",\n",
    "                        \"image\": \"docker.io/kubeflowkatib/pytorch-mnist-cpu:v0.14.0\",\n",
    "                        \"command\": [\n",
    "                            \"python3\",\n",
    "                            \"/opt/pytorch-mnist/mnist.py\",\n",
    "                            \"--epochs=1\",\n",
    "                            \"--batch-size=16\",\n",
    "                            \"--lr=${trialParameters.learningRate}\",\n",
    "                            \"--momentum=${trialParameters.momentum}\",\n",
    "                        ]\n",
    "                    }\n",
    "                ],\n",
    "                \"restartPolicy\": \"Never\"\n",
    "            }\n",
    "        }\n",
    "    }\n",
    "}\n",
    "\n",
    "# Configure parameters for the Trial template.\n",
    "# We set the retain parameter to \"True\" to not clean-up the Trial Job's Kubernetes Pods.\n",
    "trial_template=V1beta1TrialTemplate(\n",
    "    retain=True,\n",
    "    primary_container_name=\"training-container\",\n",
    "    trial_parameters=[\n",
    "        V1beta1TrialParameterSpec(\n",
    "            name=\"learningRate\",\n",
    "            description=\"Learning rate for the training model\",\n",
    "            reference=\"lr\"\n",
    "        ),\n",
    "        V1beta1TrialParameterSpec(\n",
    "            name=\"momentum\",\n",
    "            description=\"Momentum for the training model\",\n",
    "            reference=\"momentum\"\n",
    "        ),\n",
    "    ],\n",
    "    trial_spec=trial_spec\n",
    ")"
   ],
   "metadata": {
    "collapsed": false,
    "pycharm": {
     "name": "#%%\n"
    }
   }
  },
  {
   "cell_type": "markdown",
   "source": [
    "## Define an Experiment specification\n",
    "\n",
    "Create an Experiment specification from the above parameters."
   ],
   "metadata": {
    "collapsed": false,
    "pycharm": {
     "name": "#%% md\n"
    }
   }
  },
  {
   "cell_type": "code",
   "execution_count": null,
   "outputs": [],
   "source": [
    "experiment_spec=V1beta1ExperimentSpec(\n",
    "    max_trial_count=max_trial_count,\n",
    "    max_failed_trial_count=max_failed_trial_count,\n",
    "    parallel_trial_count=parallel_trial_count,\n",
    "    objective=objective,\n",
    "    algorithm=algorithm,\n",
    "    early_stopping=early_stopping,\n",
    "    parameters=parameters,\n",
    "    trial_template=trial_template\n",
    ")"
   ],
   "metadata": {
    "collapsed": false,
    "pycharm": {
     "name": "#%%\n"
    }
   }
  },
  {
   "cell_type": "markdown",
   "source": [
    "# Create a Pipeline using Katib component\n",
    "\n",
    "The best hyperparameters are printed after Experiment is finished.\n",
    "The Experiment is not deleted after the Pipeline is finished."
   ],
   "metadata": {
    "collapsed": false,
    "pycharm": {
     "name": "#%% md\n"
    }
   }
  },
  {
   "cell_type": "code",
   "execution_count": null,
   "outputs": [],
   "source": [
    "# # Get the Katib launcher.\n",
    "# katib_experiment_launcher_op = components.load_component_from_url(\n",
    "#     \"https://raw.githubusercontent.com/kubeflow/pipelines/master/components/kubeflow/katib-launcher/component.yaml\")\n",
    "#\n",
    "# @dsl.pipeline(\n",
    "#     name=\"Launch Katib early stopping Experiment\",\n",
    "#     description=\"An example to launch Katib Experiment with early stopping\"\n",
    "# )\n",
    "#\n",
    "# def median_stop():\n",
    "#\n",
    "#     # Katib launcher component.\n",
    "#     # Experiment Spec should be serialized to a valid Kubernetes object.\n",
    "#     op = katib_experiment_launcher_op(\n",
    "#         experiment_name=experiment_name,\n",
    "#         experiment_namespace=experiment_namespace,\n",
    "#         experiment_spec=ApiClient().sanitize_for_serialization(experiment_spec),\n",
    "#         experiment_timeout_minutes=60,\n",
    "#         delete_finished_experiment=False)\n",
    "#\n",
    "#     # Output container to print the results.\n",
    "#     op_out = dsl.ContainerOp(\n",
    "#         name=\"best-hp\",\n",
    "#         image=\"library/bash:4.4.23\",\n",
    "#         command=[\"sh\", \"-c\"],\n",
    "#         arguments=[\"echo Best HyperParameters: %s\" % op.output],\n",
    "#     )\n",
    "\n",
    "# Create pipeline component to launch Katib experiment.\n",
    "@dsl.component\n",
    "def launch_katib_experiment():\n",
    "    katib_client = KatibClient()\n",
    "    experiment = katib_client.create_experiment(\n",
    "        V1beta1Experiment(\n",
    "            api_version=\"kubeflow.org/v1beta1\",\n",
    "            kind=\"Experiment\",\n",
    "            metadata={\"name\": experiment_name, \"namespace\": experiment_namespace},\n",
    "            spec=experiment_spec\n",
    "        )\n",
    "    )\n",
    "    print(f\"Experiment '{experiment_name}' created in namespace '{experiment_namespace}'.\")\n",
    "    return experiment_name\n",
    "\n",
    "#remove later\n",
    "from pprint import pprint\n",
    "\n",
    "@dsl.component\n",
    "def get_best_hyperparameters(experiment_name: str):\n",
    "    katib_client = KatibClient()\n",
    "    best_trial = katib_client.get_best_trial(name=experiment_name, namespace=experiment_namespace)\n",
    "    print(\"Best trial's hyperparameters:\", best_trial)\n",
    "\n",
    "# Define Kubeflow pipeline.\n",
    "@dsl.pipeline(\n",
    "    name=\"Launch Katib early stopping Experiment Pipeline\",\n",
    "    description=\"A pipeline to launch Katib Experiment with early stopping\"\n",
    ")\n",
    "def katib_pipeline():\n",
    "    launch_task = launch_katib_experiment()\n",
    "    print(\"Launch Task Details:\")\n",
    "    pprint(vars(launch_task))\n",
    "    # get_best_hp_task = get_best_hyperparameters(launch_task.output)"
   ],
   "metadata": {
    "collapsed": false,
    "pycharm": {
     "name": "#%%\n"
    }
   }
  },
  {
   "cell_type": "markdown",
   "source": [
    "# Run the Kubeflow Pipeline\n",
    "\n",
    "You can check the Katib Experiment info in the Katib UI."
   ],
   "metadata": {
    "collapsed": false,
    "pycharm": {
     "name": "#%% md\n"
    }
   }
  },
  {
   "cell_type": "code",
   "execution_count": null,
   "outputs": [],
   "source": [
    "# Run the Kubeflow Pipeline in the user's namespace.\n",
    "kfp.Client().create_run_from_pipeline_func(katib_pipeline,  namespace=experiment_namespace, arguments={})"
   ],
   "metadata": {
    "collapsed": false,
    "pycharm": {
     "name": "#%%\n"
    }
   }
  },
  {
   "cell_type": "code",
   "execution_count": null,
   "metadata": {},
   "outputs": [],
   "source": []
  }
 ],
 "metadata": {
  "kernelspec": {
   "display_name": "Python 3",
   "language": "python",
   "name": "python3"
  },
  "language_info": {
   "codemirror_mode": {
    "name": "ipython",
    "version": 3
   },
   "file_extension": ".py",
   "mimetype": "text/x-python",
   "name": "python",
   "nbconvert_exporter": "python",
   "pygments_lexer": "ipython3",
   "version": "3.8.10"
  }
 },
 "nbformat": 4,
 "nbformat_minor": 4
}